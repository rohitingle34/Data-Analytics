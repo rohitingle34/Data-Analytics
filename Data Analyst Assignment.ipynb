{
 "cells": [
  {
   "cell_type": "markdown",
   "id": "96f4e545",
   "metadata": {},
   "source": [
    "# Data Analyst Assignment\n",
    "### Part 1. Exploratory data analysis\n",
    "Perform an exploratory data analysis on the given dataset and share your findings.\n",
    "\n",
    "### Part 2. Metric calculation\n",
    "What is the average duration between the 1st trip and the 2nd trip of customers? Note: Consider only the customers who have done 2 or more trips.\n",
    "\n",
    "### Part 3. Model building\n",
    "Build a model to predict trip_fare using travel_distance and travel_time. Measure the accuracy of the model and use the model to predict trip_fare for a trip with travel_distance of 3.5 kms and travel_time of 15 minutes.\n",
    "\n",
    "### Part 4. Top Hex clusters\n",
    "Top 5 pairs of hex (resolution=8) clusters where most of the trips happened? You can refer to the library listed below to get hexid for a given latitude and longitude.\n",
    "\n",
    "https://github.com/uber/h3-py\n",
    "\n",
    "##### Expected output\n",
    "\n",
    "Rank\tHex pair (source_hexid, destination_hexid)\tTotal trips\n",
    "1\t883c8e4159fffff to 88754e6499fffff\t34\n",
    "2\t883db66b55fffff to 883c8e4159fffff\t28\n",
    "\n",
    "##### Dataset\n",
    "\n",
    "Serial No.\tColumn names\tDescription\n",
    "- 1\ttrip_id\tUnique identifier for customer\n",
    "- 2\tcustomer_id\tUnique identifier for customer\n",
    "- 3\ttimestamp\tTime stamp of the trip in Epoch format\n",
    "- 4\tpick_lat\tLatitude of the pickup location\n",
    "- 5\tpick_lng\tLongitude of the pickup location\n",
    "- 6\tdrop_lat\tLatitude of the drop location\n",
    "- 7\tdrop_lng\tLongitude of the drop location\n",
    "- 8\ttravel_distance\tDistance of trip measured in KMs\n",
    "- 9\ttravel_time\tDuration of the trip measured in Minutes\n",
    "- 10\ttrip_fare\tTrip fare calculated in Rupees\n"
   ]
  },
  {
   "cell_type": "markdown",
   "id": "5f07cf5b",
   "metadata": {},
   "source": [
    "# Part 1. Exploratory data analysis\n",
    "Perform an exploratory data analysis on the given dataset and share your findings."
   ]
  },
  {
   "cell_type": "code",
   "execution_count": 1,
   "id": "527a1d0b",
   "metadata": {},
   "outputs": [],
   "source": [
    "# Import necessary libraries\n",
    "import numpy as np\n",
    "import pandas as pd\n",
    "import matplotlib.pyplot as plt\n",
    "import seaborn as sns"
   ]
  },
  {
   "cell_type": "code",
   "execution_count": 2,
   "id": "443047f0",
   "metadata": {},
   "outputs": [
    {
     "data": {
      "text/html": [
       "<div>\n",
       "<style scoped>\n",
       "    .dataframe tbody tr th:only-of-type {\n",
       "        vertical-align: middle;\n",
       "    }\n",
       "\n",
       "    .dataframe tbody tr th {\n",
       "        vertical-align: top;\n",
       "    }\n",
       "\n",
       "    .dataframe thead th {\n",
       "        text-align: right;\n",
       "    }\n",
       "</style>\n",
       "<table border=\"1\" class=\"dataframe\">\n",
       "  <thead>\n",
       "    <tr style=\"text-align: right;\">\n",
       "      <th></th>\n",
       "      <th>trip_id</th>\n",
       "      <th>customer_id</th>\n",
       "      <th>timestamp</th>\n",
       "      <th>pick_lat</th>\n",
       "      <th>pick_lng</th>\n",
       "      <th>drop_lat</th>\n",
       "      <th>drop_lng</th>\n",
       "      <th>travel_distance</th>\n",
       "      <th>travel_time</th>\n",
       "      <th>trip_fare</th>\n",
       "    </tr>\n",
       "  </thead>\n",
       "  <tbody>\n",
       "    <tr>\n",
       "      <th>0</th>\n",
       "      <td>ID001</td>\n",
       "      <td>CUST_001</td>\n",
       "      <td>1546709270211</td>\n",
       "      <td>17.442705</td>\n",
       "      <td>78.387878</td>\n",
       "      <td>17.457829</td>\n",
       "      <td>78.399056</td>\n",
       "      <td>2.806</td>\n",
       "      <td>12.609667</td>\n",
       "      <td>37</td>\n",
       "    </tr>\n",
       "    <tr>\n",
       "      <th>1</th>\n",
       "      <td>ID002</td>\n",
       "      <td>CUST_002</td>\n",
       "      <td>1546709309524</td>\n",
       "      <td>17.490189</td>\n",
       "      <td>78.415512</td>\n",
       "      <td>17.450548</td>\n",
       "      <td>78.367294</td>\n",
       "      <td>11.991</td>\n",
       "      <td>24.075200</td>\n",
       "      <td>119</td>\n",
       "    </tr>\n",
       "    <tr>\n",
       "      <th>2</th>\n",
       "      <td>ID003</td>\n",
       "      <td>CUST_003</td>\n",
       "      <td>1546709331857</td>\n",
       "      <td>17.370108</td>\n",
       "      <td>78.515045</td>\n",
       "      <td>17.377041</td>\n",
       "      <td>78.517921</td>\n",
       "      <td>1.322</td>\n",
       "      <td>8.708300</td>\n",
       "      <td>27</td>\n",
       "    </tr>\n",
       "    <tr>\n",
       "      <th>3</th>\n",
       "      <td>ID004</td>\n",
       "      <td>CUST_004</td>\n",
       "      <td>1546709358403</td>\n",
       "      <td>17.439314</td>\n",
       "      <td>78.443001</td>\n",
       "      <td>17.397131</td>\n",
       "      <td>78.516586</td>\n",
       "      <td>11.822</td>\n",
       "      <td>24.037550</td>\n",
       "      <td>121</td>\n",
       "    </tr>\n",
       "    <tr>\n",
       "      <th>4</th>\n",
       "      <td>ID005</td>\n",
       "      <td>CUST_005</td>\n",
       "      <td>1546709386884</td>\n",
       "      <td>17.432325</td>\n",
       "      <td>78.381966</td>\n",
       "      <td>17.401625</td>\n",
       "      <td>78.400032</td>\n",
       "      <td>6.978</td>\n",
       "      <td>16.120867</td>\n",
       "      <td>58</td>\n",
       "    </tr>\n",
       "  </tbody>\n",
       "</table>\n",
       "</div>"
      ],
      "text/plain": [
       "  trip_id customer_id      timestamp   pick_lat   pick_lng   drop_lat  \\\n",
       "0   ID001    CUST_001  1546709270211  17.442705  78.387878  17.457829   \n",
       "1   ID002    CUST_002  1546709309524  17.490189  78.415512  17.450548   \n",
       "2   ID003    CUST_003  1546709331857  17.370108  78.515045  17.377041   \n",
       "3   ID004    CUST_004  1546709358403  17.439314  78.443001  17.397131   \n",
       "4   ID005    CUST_005  1546709386884  17.432325  78.381966  17.401625   \n",
       "\n",
       "    drop_lng  travel_distance  travel_time  trip_fare  \n",
       "0  78.399056            2.806    12.609667         37  \n",
       "1  78.367294           11.991    24.075200        119  \n",
       "2  78.517921            1.322     8.708300         27  \n",
       "3  78.516586           11.822    24.037550        121  \n",
       "4  78.400032            6.978    16.120867         58  "
      ]
     },
     "execution_count": 2,
     "metadata": {},
     "output_type": "execute_result"
    }
   ],
   "source": [
    "# Load dataset\n",
    "df = pd.read_csv('dataanalytics.csv')\n",
    "df.head()"
   ]
  },
  {
   "cell_type": "code",
   "execution_count": 3,
   "id": "113b8d3d",
   "metadata": {},
   "outputs": [
    {
     "name": "stdout",
     "output_type": "stream",
     "text": [
      "<class 'pandas.core.frame.DataFrame'>\n",
      "RangeIndex: 44587 entries, 0 to 44586\n",
      "Data columns (total 10 columns):\n",
      " #   Column           Non-Null Count  Dtype  \n",
      "---  ------           --------------  -----  \n",
      " 0   trip_id          44587 non-null  object \n",
      " 1   customer_id      44587 non-null  object \n",
      " 2   timestamp        44587 non-null  int64  \n",
      " 3   pick_lat         44587 non-null  float64\n",
      " 4   pick_lng         44587 non-null  float64\n",
      " 5   drop_lat         44587 non-null  float64\n",
      " 6   drop_lng         44587 non-null  float64\n",
      " 7   travel_distance  44587 non-null  float64\n",
      " 8   travel_time      44587 non-null  float64\n",
      " 9   trip_fare        44587 non-null  int64  \n",
      "dtypes: float64(6), int64(2), object(2)\n",
      "memory usage: 3.4+ MB\n"
     ]
    }
   ],
   "source": [
    "df.info()"
   ]
  },
  {
   "cell_type": "code",
   "execution_count": 4,
   "id": "538c0380",
   "metadata": {},
   "outputs": [
    {
     "data": {
      "text/plain": [
       "trip_id             object\n",
       "customer_id         object\n",
       "timestamp            int64\n",
       "pick_lat           float64\n",
       "pick_lng           float64\n",
       "drop_lat           float64\n",
       "drop_lng           float64\n",
       "travel_distance    float64\n",
       "travel_time        float64\n",
       "trip_fare            int64\n",
       "dtype: object"
      ]
     },
     "execution_count": 4,
     "metadata": {},
     "output_type": "execute_result"
    }
   ],
   "source": [
    "df.dtypes # Check the data types of the columns"
   ]
  },
  {
   "cell_type": "code",
   "execution_count": 5,
   "id": "034aea98",
   "metadata": {},
   "outputs": [
    {
     "data": {
      "text/plain": [
       "(44587, 10)"
      ]
     },
     "execution_count": 5,
     "metadata": {},
     "output_type": "execute_result"
    }
   ],
   "source": [
    "df.shape # Cecking Dimension"
   ]
  },
  {
   "cell_type": "code",
   "execution_count": 6,
   "id": "b0c39367",
   "metadata": {},
   "outputs": [
    {
     "data": {
      "text/plain": [
       "trip_id            0\n",
       "customer_id        0\n",
       "timestamp          0\n",
       "pick_lat           0\n",
       "pick_lng           0\n",
       "drop_lat           0\n",
       "drop_lng           0\n",
       "travel_distance    0\n",
       "travel_time        0\n",
       "trip_fare          0\n",
       "dtype: int64"
      ]
     },
     "execution_count": 6,
     "metadata": {},
     "output_type": "execute_result"
    }
   ],
   "source": [
    "df.isnull().sum() # Check the missing values in the dataframe"
   ]
  },
  {
   "cell_type": "code",
   "execution_count": 7,
   "id": "10e608ad",
   "metadata": {},
   "outputs": [
    {
     "data": {
      "text/html": [
       "<div>\n",
       "<style scoped>\n",
       "    .dataframe tbody tr th:only-of-type {\n",
       "        vertical-align: middle;\n",
       "    }\n",
       "\n",
       "    .dataframe tbody tr th {\n",
       "        vertical-align: top;\n",
       "    }\n",
       "\n",
       "    .dataframe thead th {\n",
       "        text-align: right;\n",
       "    }\n",
       "</style>\n",
       "<table border=\"1\" class=\"dataframe\">\n",
       "  <thead>\n",
       "    <tr style=\"text-align: right;\">\n",
       "      <th></th>\n",
       "      <th>timestamp</th>\n",
       "      <th>pick_lat</th>\n",
       "      <th>pick_lng</th>\n",
       "      <th>drop_lat</th>\n",
       "      <th>drop_lng</th>\n",
       "      <th>travel_distance</th>\n",
       "      <th>travel_time</th>\n",
       "      <th>trip_fare</th>\n",
       "    </tr>\n",
       "  </thead>\n",
       "  <tbody>\n",
       "    <tr>\n",
       "      <th>count</th>\n",
       "      <td>4.458700e+04</td>\n",
       "      <td>44587.000000</td>\n",
       "      <td>44587.000000</td>\n",
       "      <td>44587.000000</td>\n",
       "      <td>44587.000000</td>\n",
       "      <td>44587.000000</td>\n",
       "      <td>44587.000000</td>\n",
       "      <td>44587.000000</td>\n",
       "    </tr>\n",
       "    <tr>\n",
       "      <th>mean</th>\n",
       "      <td>1.546632e+12</td>\n",
       "      <td>17.427919</td>\n",
       "      <td>78.435542</td>\n",
       "      <td>17.427891</td>\n",
       "      <td>78.434897</td>\n",
       "      <td>5.094359</td>\n",
       "      <td>15.819835</td>\n",
       "      <td>53.872833</td>\n",
       "    </tr>\n",
       "    <tr>\n",
       "      <th>std</th>\n",
       "      <td>1.518684e+08</td>\n",
       "      <td>0.030049</td>\n",
       "      <td>0.053333</td>\n",
       "      <td>0.037722</td>\n",
       "      <td>0.054965</td>\n",
       "      <td>3.365008</td>\n",
       "      <td>23.462865</td>\n",
       "      <td>33.430462</td>\n",
       "    </tr>\n",
       "    <tr>\n",
       "      <th>min</th>\n",
       "      <td>1.546368e+12</td>\n",
       "      <td>17.330339</td>\n",
       "      <td>78.308258</td>\n",
       "      <td>12.921696</td>\n",
       "      <td>77.548103</td>\n",
       "      <td>-1.000000</td>\n",
       "      <td>0.022750</td>\n",
       "      <td>20.000000</td>\n",
       "    </tr>\n",
       "    <tr>\n",
       "      <th>25%</th>\n",
       "      <td>1.546503e+12</td>\n",
       "      <td>17.405327</td>\n",
       "      <td>78.386562</td>\n",
       "      <td>17.405660</td>\n",
       "      <td>78.385010</td>\n",
       "      <td>2.744500</td>\n",
       "      <td>8.428525</td>\n",
       "      <td>36.000000</td>\n",
       "    </tr>\n",
       "    <tr>\n",
       "      <th>50%</th>\n",
       "      <td>1.546611e+12</td>\n",
       "      <td>17.432136</td>\n",
       "      <td>78.438866</td>\n",
       "      <td>17.431213</td>\n",
       "      <td>78.438164</td>\n",
       "      <td>4.299000</td>\n",
       "      <td>13.126250</td>\n",
       "      <td>46.000000</td>\n",
       "    </tr>\n",
       "    <tr>\n",
       "      <th>75%</th>\n",
       "      <td>1.546772e+12</td>\n",
       "      <td>17.446777</td>\n",
       "      <td>78.480839</td>\n",
       "      <td>17.446907</td>\n",
       "      <td>78.480255</td>\n",
       "      <td>6.679500</td>\n",
       "      <td>20.111167</td>\n",
       "      <td>60.000000</td>\n",
       "    </tr>\n",
       "    <tr>\n",
       "      <th>max</th>\n",
       "      <td>1.546886e+12</td>\n",
       "      <td>17.529791</td>\n",
       "      <td>78.600647</td>\n",
       "      <td>17.736155</td>\n",
       "      <td>78.634804</td>\n",
       "      <td>52.801000</td>\n",
       "      <td>4134.388700</td>\n",
       "      <td>1670.000000</td>\n",
       "    </tr>\n",
       "  </tbody>\n",
       "</table>\n",
       "</div>"
      ],
      "text/plain": [
       "          timestamp      pick_lat      pick_lng      drop_lat      drop_lng  \\\n",
       "count  4.458700e+04  44587.000000  44587.000000  44587.000000  44587.000000   \n",
       "mean   1.546632e+12     17.427919     78.435542     17.427891     78.434897   \n",
       "std    1.518684e+08      0.030049      0.053333      0.037722      0.054965   \n",
       "min    1.546368e+12     17.330339     78.308258     12.921696     77.548103   \n",
       "25%    1.546503e+12     17.405327     78.386562     17.405660     78.385010   \n",
       "50%    1.546611e+12     17.432136     78.438866     17.431213     78.438164   \n",
       "75%    1.546772e+12     17.446777     78.480839     17.446907     78.480255   \n",
       "max    1.546886e+12     17.529791     78.600647     17.736155     78.634804   \n",
       "\n",
       "       travel_distance   travel_time     trip_fare  \n",
       "count     44587.000000  44587.000000  44587.000000  \n",
       "mean          5.094359     15.819835     53.872833  \n",
       "std           3.365008     23.462865     33.430462  \n",
       "min          -1.000000      0.022750     20.000000  \n",
       "25%           2.744500      8.428525     36.000000  \n",
       "50%           4.299000     13.126250     46.000000  \n",
       "75%           6.679500     20.111167     60.000000  \n",
       "max          52.801000   4134.388700   1670.000000  "
      ]
     },
     "execution_count": 7,
     "metadata": {},
     "output_type": "execute_result"
    }
   ],
   "source": [
    "df.describe() # Check the summary statistics of the dataframe"
   ]
  },
  {
   "cell_type": "code",
   "execution_count": 8,
   "id": "e54659a3",
   "metadata": {},
   "outputs": [
    {
     "data": {
      "image/png": "[encoded data removed]",
      "text/plain": [
       "<Figure size 640x480 with 1 Axes>"
      ]
     },
     "metadata": {},
     "output_type": "display_data"
    }
   ],
   "source": [
    "sns.histplot(data=df, x='travel_distance', bins=20)\n",
    "plt.title('Distribution of Travel Distance')\n",
    "plt.show()"
   ]
  },
  {
   "cell_type": "code",
   "execution_count": 9,
   "id": "445cd5be",
   "metadata": {},
   "outputs": [
    {
     "data": {
      "image/png": "[encoded data removed]",
      "text/plain": [
       "<Figure size 640x480 with 1 Axes>"
      ]
     },
     "metadata": {},
     "output_type": "display_data"
    }
   ],
   "source": [
    "sns.histplot(data=df, x='travel_time', bins=20)\n",
    "plt.title('Distribution of Travel Time')\n",
    "plt.show()"
   ]
  },
  {
   "cell_type": "code",
   "execution_count": 10,
   "id": "7b3bf4c3",
   "metadata": {},
   "outputs": [
    {
     "data": {
      "image/png": "[encoded data removed]",
      "text/plain": [
       "<Figure size 640x480 with 1 Axes>"
      ]
     },
     "metadata": {},
     "output_type": "display_data"
    }
   ],
   "source": [
    "sns.histplot(data=df, x='trip_fare', bins=20)\n",
    "plt.title('Distribution of Trip Fare')\n",
    "plt.show()"
   ]
  },
  {
   "cell_type": "code",
   "execution_count": 11,
   "id": "35e3eff9",
   "metadata": {},
   "outputs": [
    {
     "data": {
      "image/png": "[encoded data removed]",
      "text/plain": [
       "<Figure size 640x480 with 2 Axes>"
      ]
     },
     "metadata": {},
     "output_type": "display_data"
    }
   ],
   "source": [
    "# Check the correlation between the numerical columns\n",
    "sns.heatmap(df.corr(), annot=True, cmap='coolwarm')\n",
    "plt.title('Correlation Matrix')\n",
    "plt.show()"
   ]
  },
  {
   "cell_type": "code",
   "execution_count": 12,
   "id": "40271df2",
   "metadata": {},
   "outputs": [
    {
     "data": {
      "image/png": "[encoded data removed]",
      "text/plain": [
       "<Figure size 640x480 with 1 Axes>"
      ]
     },
     "metadata": {},
     "output_type": "display_data"
    }
   ],
   "source": [
    "trips_per_customer = df.groupby('customer_id')['trip_id'].count().reset_index()\n",
    "trips_per_customer.rename(columns={'trip_id': 'num_trips'}, inplace=True)\n",
    "\n",
    "sns.histplot(data=trips_per_customer, x='num_trips', bins=20)\n",
    "plt.title('Number of Trips per Customer')\n",
    "plt.show()"
   ]
  },
  {
   "cell_type": "code",
   "execution_count": 13,
   "id": "f1f19dfe",
   "metadata": {},
   "outputs": [
    {
     "data": {
      "text/html": [
       "<div>\n",
       "<style scoped>\n",
       "    .dataframe tbody tr th:only-of-type {\n",
       "        vertical-align: middle;\n",
       "    }\n",
       "\n",
       "    .dataframe tbody tr th {\n",
       "        vertical-align: top;\n",
       "    }\n",
       "\n",
       "    .dataframe thead th {\n",
       "        text-align: right;\n",
       "    }\n",
       "</style>\n",
       "<table border=\"1\" class=\"dataframe\">\n",
       "  <thead>\n",
       "    <tr style=\"text-align: right;\">\n",
       "      <th></th>\n",
       "      <th>trip_id</th>\n",
       "      <th>customer_id</th>\n",
       "      <th>timestamp</th>\n",
       "      <th>pick_lat</th>\n",
       "      <th>pick_lng</th>\n",
       "      <th>drop_lat</th>\n",
       "      <th>drop_lng</th>\n",
       "      <th>travel_distance</th>\n",
       "      <th>travel_time</th>\n",
       "      <th>trip_fare</th>\n",
       "    </tr>\n",
       "  </thead>\n",
       "  <tbody>\n",
       "    <tr>\n",
       "      <th>0</th>\n",
       "      <td>ID001</td>\n",
       "      <td>CUST_001</td>\n",
       "      <td>2019-01-05 17:27:50.211</td>\n",
       "      <td>17.442705</td>\n",
       "      <td>78.387878</td>\n",
       "      <td>17.457829</td>\n",
       "      <td>78.399056</td>\n",
       "      <td>2.806</td>\n",
       "      <td>12.609667</td>\n",
       "      <td>37</td>\n",
       "    </tr>\n",
       "    <tr>\n",
       "      <th>1</th>\n",
       "      <td>ID002</td>\n",
       "      <td>CUST_002</td>\n",
       "      <td>2019-01-05 17:28:29.524</td>\n",
       "      <td>17.490189</td>\n",
       "      <td>78.415512</td>\n",
       "      <td>17.450548</td>\n",
       "      <td>78.367294</td>\n",
       "      <td>11.991</td>\n",
       "      <td>24.075200</td>\n",
       "      <td>119</td>\n",
       "    </tr>\n",
       "    <tr>\n",
       "      <th>2</th>\n",
       "      <td>ID003</td>\n",
       "      <td>CUST_003</td>\n",
       "      <td>2019-01-05 17:28:51.857</td>\n",
       "      <td>17.370108</td>\n",
       "      <td>78.515045</td>\n",
       "      <td>17.377041</td>\n",
       "      <td>78.517921</td>\n",
       "      <td>1.322</td>\n",
       "      <td>8.708300</td>\n",
       "      <td>27</td>\n",
       "    </tr>\n",
       "    <tr>\n",
       "      <th>3</th>\n",
       "      <td>ID004</td>\n",
       "      <td>CUST_004</td>\n",
       "      <td>2019-01-05 17:29:18.403</td>\n",
       "      <td>17.439314</td>\n",
       "      <td>78.443001</td>\n",
       "      <td>17.397131</td>\n",
       "      <td>78.516586</td>\n",
       "      <td>11.822</td>\n",
       "      <td>24.037550</td>\n",
       "      <td>121</td>\n",
       "    </tr>\n",
       "    <tr>\n",
       "      <th>4</th>\n",
       "      <td>ID005</td>\n",
       "      <td>CUST_005</td>\n",
       "      <td>2019-01-05 17:29:46.884</td>\n",
       "      <td>17.432325</td>\n",
       "      <td>78.381966</td>\n",
       "      <td>17.401625</td>\n",
       "      <td>78.400032</td>\n",
       "      <td>6.978</td>\n",
       "      <td>16.120867</td>\n",
       "      <td>58</td>\n",
       "    </tr>\n",
       "    <tr>\n",
       "      <th>...</th>\n",
       "      <td>...</td>\n",
       "      <td>...</td>\n",
       "      <td>...</td>\n",
       "      <td>...</td>\n",
       "      <td>...</td>\n",
       "      <td>...</td>\n",
       "      <td>...</td>\n",
       "      <td>...</td>\n",
       "      <td>...</td>\n",
       "      <td>...</td>\n",
       "    </tr>\n",
       "    <tr>\n",
       "      <th>44582</th>\n",
       "      <td>ID44583</td>\n",
       "      <td>CUST_19137</td>\n",
       "      <td>2019-01-03 16:04:51.044</td>\n",
       "      <td>17.443661</td>\n",
       "      <td>78.391968</td>\n",
       "      <td>17.451042</td>\n",
       "      <td>78.371658</td>\n",
       "      <td>5.665</td>\n",
       "      <td>12.573883</td>\n",
       "      <td>55</td>\n",
       "    </tr>\n",
       "    <tr>\n",
       "      <th>44583</th>\n",
       "      <td>ID44584</td>\n",
       "      <td>CUST_19138</td>\n",
       "      <td>2019-01-03 16:05:05.869</td>\n",
       "      <td>17.439289</td>\n",
       "      <td>78.396118</td>\n",
       "      <td>17.449976</td>\n",
       "      <td>78.389160</td>\n",
       "      <td>9.292</td>\n",
       "      <td>17.937717</td>\n",
       "      <td>76</td>\n",
       "    </tr>\n",
       "    <tr>\n",
       "      <th>44584</th>\n",
       "      <td>ID44585</td>\n",
       "      <td>CUST_5061</td>\n",
       "      <td>2019-01-03 16:05:22.103</td>\n",
       "      <td>17.363689</td>\n",
       "      <td>78.535194</td>\n",
       "      <td>17.374418</td>\n",
       "      <td>78.529823</td>\n",
       "      <td>5.485</td>\n",
       "      <td>17.403850</td>\n",
       "      <td>55</td>\n",
       "    </tr>\n",
       "    <tr>\n",
       "      <th>44585</th>\n",
       "      <td>ID44586</td>\n",
       "      <td>CUST_19139</td>\n",
       "      <td>2019-01-03 16:05:36.429</td>\n",
       "      <td>17.401539</td>\n",
       "      <td>78.570076</td>\n",
       "      <td>17.416904</td>\n",
       "      <td>78.591362</td>\n",
       "      <td>2.326</td>\n",
       "      <td>14.236767</td>\n",
       "      <td>35</td>\n",
       "    </tr>\n",
       "    <tr>\n",
       "      <th>44586</th>\n",
       "      <td>ID44587</td>\n",
       "      <td>CUST_15562</td>\n",
       "      <td>2019-01-03 16:05:49.938</td>\n",
       "      <td>17.385243</td>\n",
       "      <td>78.479896</td>\n",
       "      <td>17.394102</td>\n",
       "      <td>78.499550</td>\n",
       "      <td>3.204</td>\n",
       "      <td>7.085400</td>\n",
       "      <td>37</td>\n",
       "    </tr>\n",
       "  </tbody>\n",
       "</table>\n",
       "<p>44587 rows × 10 columns</p>\n",
       "</div>"
      ],
      "text/plain": [
       "       trip_id customer_id               timestamp   pick_lat   pick_lng  \\\n",
       "0        ID001    CUST_001 2019-01-05 17:27:50.211  17.442705  78.387878   \n",
       "1        ID002    CUST_002 2019-01-05 17:28:29.524  17.490189  78.415512   \n",
       "2        ID003    CUST_003 2019-01-05 17:28:51.857  17.370108  78.515045   \n",
       "3        ID004    CUST_004 2019-01-05 17:29:18.403  17.439314  78.443001   \n",
       "4        ID005    CUST_005 2019-01-05 17:29:46.884  17.432325  78.381966   \n",
       "...        ...         ...                     ...        ...        ...   \n",
       "44582  ID44583  CUST_19137 2019-01-03 16:04:51.044  17.443661  78.391968   \n",
       "44583  ID44584  CUST_19138 2019-01-03 16:05:05.869  17.439289  78.396118   \n",
       "44584  ID44585   CUST_5061 2019-01-03 16:05:22.103  17.363689  78.535194   \n",
       "44585  ID44586  CUST_19139 2019-01-03 16:05:36.429  17.401539  78.570076   \n",
       "44586  ID44587  CUST_15562 2019-01-03 16:05:49.938  17.385243  78.479896   \n",
       "\n",
       "        drop_lat   drop_lng  travel_distance  travel_time  trip_fare  \n",
       "0      17.457829  78.399056            2.806    12.609667         37  \n",
       "1      17.450548  78.367294           11.991    24.075200        119  \n",
       "2      17.377041  78.517921            1.322     8.708300         27  \n",
       "3      17.397131  78.516586           11.822    24.037550        121  \n",
       "4      17.401625  78.400032            6.978    16.120867         58  \n",
       "...          ...        ...              ...          ...        ...  \n",
       "44582  17.451042  78.371658            5.665    12.573883         55  \n",
       "44583  17.449976  78.389160            9.292    17.937717         76  \n",
       "44584  17.374418  78.529823            5.485    17.403850         55  \n",
       "44585  17.416904  78.591362            2.326    14.236767         35  \n",
       "44586  17.394102  78.499550            3.204     7.085400         37  \n",
       "\n",
       "[44587 rows x 10 columns]"
      ]
     },
     "execution_count": 13,
     "metadata": {},
     "output_type": "execute_result"
    }
   ],
   "source": [
    "df['timestamp'] = pd.to_datetime(df['timestamp'], unit='ms')\n",
    "df"
   ]
  },
  {
   "cell_type": "markdown",
   "id": "2473b12a",
   "metadata": {},
   "source": [
    "# Part 2. Metric calculation\n",
    "What is the average duration between the 1st trip and the 2nd trip of customers? Note: Consider only the customers who have done 2 or more trips."
   ]
  },
  {
   "cell_type": "code",
   "execution_count": 14,
   "id": "02f7df87",
   "metadata": {},
   "outputs": [],
   "source": [
    "# Create a new dataframe with customers who have done 2 or more trips\n",
    "multi_trip_df = df.groupby('customer_id').filter(lambda x: len(x) >= 2)"
   ]
  },
  {
   "cell_type": "code",
   "execution_count": 15,
   "id": "d6c511ed",
   "metadata": {},
   "outputs": [],
   "source": [
    "# Sort the dataframe by customer_id and timestamp\n",
    "multi_trip_df = multi_trip_df.sort_values(by=['customer_id', 'timestamp'])"
   ]
  },
  {
   "cell_type": "code",
   "execution_count": 16,
   "id": "dc7770be",
   "metadata": {},
   "outputs": [],
   "source": [
    "# Create a new column to calculate the duration between trips\n",
    "multi_trip_df['duration'] = multi_trip_df.groupby('customer_id')['timestamp'].diff()"
   ]
  },
  {
   "cell_type": "code",
   "execution_count": 17,
   "id": "d2574ec1",
   "metadata": {},
   "outputs": [],
   "source": [
    "# Calculate the average duration between the 1st trip and the 2nd trip of customers\n",
    "avg_duration = multi_trip_df.groupby('customer_id')['duration'].nth(1).mean()"
   ]
  },
  {
   "cell_type": "code",
   "execution_count": 18,
   "id": "49e1dbbd",
   "metadata": {},
   "outputs": [
    {
     "name": "stdout",
     "output_type": "stream",
     "text": [
      "1 days 00:47:09.691580722\n"
     ]
    }
   ],
   "source": [
    "print(avg_duration)"
   ]
  },
  {
   "cell_type": "markdown",
   "id": "1e23679f",
   "metadata": {},
   "source": [
    "# Part 3. Model building\n",
    "Build a model to predict trip_fare using travel_distance and travel_time. Measure the accuracy of the model and use the model to predict trip_fare for a trip with travel_distance of 3.5 kms and travel_time of 15 minutes.\n"
   ]
  },
  {
   "cell_type": "code",
   "execution_count": 19,
   "id": "bc04047b",
   "metadata": {},
   "outputs": [],
   "source": [
    "# Import necessary libraries\n",
    "from sklearn.linear_model import LinearRegression\n",
    "from sklearn.model_selection import train_test_split\n",
    "from sklearn.metrics import mean_squared_error, r2_score"
   ]
  },
  {
   "cell_type": "code",
   "execution_count": 20,
   "id": "225c4aed",
   "metadata": {},
   "outputs": [],
   "source": [
    "# Create the feature matrix X and target vector y\n",
    "X = df[['travel_distance', 'travel_time']]\n",
    "y = df['trip_fare']"
   ]
  },
  {
   "cell_type": "code",
   "execution_count": 21,
   "id": "1d003cda",
   "metadata": {},
   "outputs": [],
   "source": [
    "# Split the data into training and testing sets\n",
    "X_train, X_test, y_train, y_test = train_test_split(X, y, test_size=0.2, random_state=42)"
   ]
  },
  {
   "cell_type": "code",
   "execution_count": 22,
   "id": "f457167c",
   "metadata": {},
   "outputs": [],
   "source": [
    "lr = LinearRegression() # linear regression"
   ]
  },
  {
   "cell_type": "code",
   "execution_count": 23,
   "id": "0f9e1a38",
   "metadata": {},
   "outputs": [
    {
     "data": {
      "text/plain": [
       "LinearRegression()"
      ]
     },
     "execution_count": 23,
     "metadata": {},
     "output_type": "execute_result"
    }
   ],
   "source": [
    "lr.fit(X_train, y_train) # Fit the model using the training sets"
   ]
  },
  {
   "cell_type": "code",
   "execution_count": 24,
   "id": "4e6df53f",
   "metadata": {},
   "outputs": [],
   "source": [
    "y_pred = lr.predict(X_test) #Make predictions using the testing set"
   ]
  },
  {
   "cell_type": "code",
   "execution_count": 25,
   "id": "df001a8c",
   "metadata": {},
   "outputs": [],
   "source": [
    "# Calculate the mean squared error and R-squared value\n",
    "mse = mean_squared_error(y_test, y_pred)\n",
    "r2 = r2_score(y_test, y_pred)"
   ]
  },
  {
   "cell_type": "code",
   "execution_count": 26,
   "id": "c109bd12",
   "metadata": {},
   "outputs": [
    {
     "name": "stdout",
     "output_type": "stream",
     "text": [
      "Mean Squared Error: 55.21723132781467\n",
      "R-squared value: 0.9436244424795224\n"
     ]
    }
   ],
   "source": [
    "# Print the metrics\n",
    "print(\"Mean Squared Error:\", mse)\n",
    "print(\"R-squared value:\", r2)"
   ]
  },
  {
   "cell_type": "code",
   "execution_count": 27,
   "id": "9335fd39",
   "metadata": {},
   "outputs": [
    {
     "name": "stdout",
     "output_type": "stream",
     "text": [
      "Predicted trip fare: [39.9177697]\n"
     ]
    },
    {
     "name": "stderr",
     "output_type": "stream",
     "text": [
      "C:\\Users\\Milind\\anaconda3\\lib\\site-packages\\sklearn\\base.py:450: UserWarning: X does not have valid feature names, but LinearRegression was fitted with feature names\n",
      "  warnings.warn(\n"
     ]
    }
   ],
   "source": [
    "# Use the model to predict trip_fare for a trip with travel_distance of 3.5 kms and travel_time of 15 minutes\n",
    "new_data = np.array([[3.5, 15]])\n",
    "prediction = lr.predict(new_data)\n",
    "print(\"Predicted trip fare:\", prediction)"
   ]
  },
  {
   "cell_type": "markdown",
   "id": "ac662e54",
   "metadata": {},
   "source": [
    "# Part 4. Top Hex clusters\n",
    "Top 5 pairs of hex (resolution=8) clusters where most of the trips happened? You can refer to the library listed below to get hexid for a given latitude and longitude."
   ]
  },
  {
   "cell_type": "code",
   "execution_count": 28,
   "id": "95a5e8cd",
   "metadata": {},
   "outputs": [],
   "source": [
    "# Import necessary libraries\n",
    "import h3"
   ]
  },
  {
   "cell_type": "code",
   "execution_count": 29,
   "id": "3a12a366",
   "metadata": {},
   "outputs": [],
   "source": [
    "# Create a new column to store the hexid for pick_lat and pick_lng\n",
    "df['pick_hexid'] = df.apply(lambda row: h3.geo_to_h3(row['pick_lat'], row['pick_lng'], 8), axis=1)"
   ]
  },
  {
   "cell_type": "code",
   "execution_count": 30,
   "id": "00b6e222",
   "metadata": {},
   "outputs": [],
   "source": [
    "# Create a new column to store the hexid for drop_lat and drop_lng\n",
    "df['drop_hexid'] = df.apply(lambda row: h3.geo_to_h3(row['drop_lat'], row['drop_lng'], 8), axis=1)"
   ]
  },
  {
   "cell_type": "code",
   "execution_count": 31,
   "id": "2bd23c44",
   "metadata": {},
   "outputs": [],
   "source": [
    "# Count the number of trips for each hexid and store in a dictionary\n",
    "hexid_counts = {}\n",
    "for hexid in df['pick_hexid'].unique():\n",
    "     hexid_counts[hexid] = df[df['pick_hexid'] == hexid].shape[0]\n",
    "for hexid in df['drop_hexid'].unique():\n",
    "    if hexid in hexid_counts:\n",
    "        hexid_counts[hexid] += df[df['drop_hexid'] == hexid].shape[0]\n",
    "    else:\n",
    "        hexid_counts[hexid] = df[df['drop_hexid'] == hexid].shape[0]"
   ]
  },
  {
   "cell_type": "code",
   "execution_count": 32,
   "id": "e9e13277",
   "metadata": {},
   "outputs": [
    {
     "name": "stdout",
     "output_type": "stream",
     "text": [
      "[('8860a259b9fffff', 2229), ('8860a25995fffff', 2128), ('8860a259bbfffff', 1782), ('8860a24a6dfffff', 1545), ('8860a24a65fffff', 1432)]\n"
     ]
    }
   ],
   "source": [
    "# Get the top 5 hexid pairs with the highest trip counts\n",
    "top_hexid_pairs = sorted(list(hexid_counts.items()), key=lambda x: x[1], reverse=True)[:5]\n",
    "print(top_hexid_pairs)"
   ]
  }
 ],
 "metadata": {
  "kernelspec": {
   "display_name": "Python 3 (ipykernel)",
   "language": "python",
   "name": "python3"
  },
  "language_info": {
   "codemirror_mode": {
    "name": "ipython",
    "version": 3
   },
   "file_extension": ".py",
   "mimetype": "text/x-python",
   "name": "python",
   "nbconvert_exporter": "python",
   "pygments_lexer": "ipython3",
   "version": "3.9.13"
  }
 },
 "nbformat": 4,
 "nbformat_minor": 5
}
